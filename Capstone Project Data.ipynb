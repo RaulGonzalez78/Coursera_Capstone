{
    "cells": [
        {
            "cell_type": "markdown",
            "metadata": {
                "collapsed": true
            },
            "source": "# Massachusetts Colleges Capstone Project - Raul Gonzalez\n# Data\n# April 7th, 2020"
        },
        {
            "cell_type": "markdown",
            "metadata": {},
            "source": "The data that will be used for this project will be a List of colleges and universities in Massachusetts published in Wikipedia in the following link: https://en.wikipedia.org/wiki/List_of_colleges_and_universities_in_Massachusetts. \n\nI will use the first table which comprises all the active colleges and universities in Massachusetts. Lets load, visualize and examine the data."
        },
        {
            "cell_type": "markdown",
            "metadata": {},
            "source": "## First I will extract all the data from Wikipedia using pandas, in specific the tables"
        },
        {
            "cell_type": "markdown",
            "metadata": {},
            "source": "### Lets import the required libraries"
        },
        {
            "cell_type": "code",
            "execution_count": 16,
            "metadata": {},
            "outputs": [
                {
                    "name": "stdout",
                    "output_type": "stream",
                    "text": "Libraries imported.\nExtracted 3 wikitables\n"
                }
            ],
            "source": "# extract tables from wikipedia\nfrom pandas.io.html import read_html\n\nimport numpy as np # library to handle data in a vectorized manner\n\nimport pandas as pd # library for data analsysis\npd.set_option('display.max_columns', None)\npd.set_option('display.max_rows', None)\n\nimport json # library to handle JSON files\n\nfrom geopy.geocoders import Nominatim # convert an address into latitude and longitude values\n\nimport requests # library to handle requests\nfrom pandas.io.json import json_normalize # tranform JSON file into a pandas dataframe\n\n# Matplotlib and associated plotting modules\nimport matplotlib.cm as cm\nimport matplotlib.colors as colors\nimport re\n\n# import k-means from clustering stage\nfrom sklearn.cluster import KMeans\n\n#!conda install -c conda-forge folium=0.5.0 --yes # uncomment this line if you haven't completed the Foursquare API lab\nimport folium # map rendering library\n\nprint('Libraries imported.')\n\n#here I extract the tables from the wikipedia site\npage = 'https://en.wikipedia.org/wiki/List_of_colleges_and_universities_in_Massachusetts'\n\nwikitables = read_html(page,  attrs={\"class\":\"wikitable sortable\"})\n\nprint (\"Extracted {num} wikitables\".format(num=len(wikitables)))"
        },
        {
            "cell_type": "markdown",
            "metadata": {},
            "source": "I will only use the first table for this project"
        },
        {
            "cell_type": "code",
            "execution_count": 17,
            "metadata": {},
            "outputs": [
                {
                    "name": "stdout",
                    "output_type": "stream",
                    "text": "(104, 7)\n"
                },
                {
                    "data": {
                        "text/html": "<div>\n<style scoped>\n    .dataframe tbody tr th:only-of-type {\n        vertical-align: middle;\n    }\n\n    .dataframe tbody tr th {\n        vertical-align: top;\n    }\n\n    .dataframe thead th {\n        text-align: right;\n    }\n</style>\n<table border=\"1\" class=\"dataframe\">\n  <thead>\n    <tr style=\"text-align: right;\">\n      <th></th>\n      <th>School</th>\n      <th>Location[note 1]</th>\n      <th>Control[1]</th>\n      <th>Type[1]</th>\n      <th>Enrollment[16]</th>\n      <th>Founded</th>\n      <th>Accreditation[16]</th>\n    </tr>\n  </thead>\n  <tbody>\n    <tr>\n      <th>0</th>\n      <td>American International College</td>\n      <td>Springfield</td>\n      <td>Private not-for-profit</td>\n      <td>Master's university</td>\n      <td>2,177[17]</td>\n      <td>1885[17]</td>\n      <td>AOTA, APTA, CCNE, NEASC[17]</td>\n    </tr>\n    <tr>\n      <th>1</th>\n      <td>Amherst College</td>\n      <td>Amherst</td>\n      <td>Private not-for-profit</td>\n      <td>Baccalaureate college</td>\n      <td>1,817[18]</td>\n      <td>1821[18]</td>\n      <td>NEASC[18]</td>\n    </tr>\n    <tr>\n      <th>2</th>\n      <td>Anna Maria College</td>\n      <td>Paxton</td>\n      <td>Private not-for-profit</td>\n      <td>Master's university</td>\n      <td>1,455[19]</td>\n      <td>1946[19]</td>\n      <td>NASM, NEASC, NLNAC[19]</td>\n    </tr>\n    <tr>\n      <th>3</th>\n      <td>Assumption College</td>\n      <td>Worcester</td>\n      <td>Private not-for-profit</td>\n      <td>Master's university</td>\n      <td>2,813[20]</td>\n      <td>1904[20]</td>\n      <td>NEASC[20]</td>\n    </tr>\n    <tr>\n      <th>4</th>\n      <td>Babson College</td>\n      <td>Wellesley</td>\n      <td>Private not-for-profit</td>\n      <td>Special-focus institution</td>\n      <td>3,250[21]</td>\n      <td>1919[21]</td>\n      <td>NEASC[21]</td>\n    </tr>\n    <tr>\n      <th>5</th>\n      <td>Bard College at Simon's Rock</td>\n      <td>Great Barrington</td>\n      <td>Private not-for-profit</td>\n      <td>Baccalaureate/associate's college</td>\n      <td>354[22]</td>\n      <td>1964[22]</td>\n      <td>NEASC[22]</td>\n    </tr>\n    <tr>\n      <th>6</th>\n      <td>Bay Path University</td>\n      <td>Longmeadow</td>\n      <td>Private not-for-profit</td>\n      <td>Baccalaureate college</td>\n      <td>2,370[23]</td>\n      <td>1897[23]</td>\n      <td>AOTA, NEASC[23]</td>\n    </tr>\n    <tr>\n      <th>7</th>\n      <td>Bay State College</td>\n      <td>Boston</td>\n      <td>For-profit</td>\n      <td>Associate's college</td>\n      <td>1,721[24]</td>\n      <td>1946[24]</td>\n      <td>ABHES, APTA, NEASC, NLNAC[24]</td>\n    </tr>\n    <tr>\n      <th>8</th>\n      <td>Becker College</td>\n      <td>Worcester</td>\n      <td>Private not-for-profit</td>\n      <td>Baccalaureate college</td>\n      <td>1,826[25]</td>\n      <td>1784[25]</td>\n      <td>APTA, NEASC, NLNAC[25]</td>\n    </tr>\n    <tr>\n      <th>9</th>\n      <td>Benjamin Franklin Institute of Technology</td>\n      <td>Boston</td>\n      <td>Private not-for-profit</td>\n      <td>Special-focus institution</td>\n      <td>475[26]</td>\n      <td>1908[26]</td>\n      <td>NEASC[26]</td>\n    </tr>\n  </tbody>\n</table>\n</div>",
                        "text/plain": "                                      School  Location[note 1]  \\\n0             American International College       Springfield   \n1                            Amherst College           Amherst   \n2                         Anna Maria College            Paxton   \n3                         Assumption College         Worcester   \n4                             Babson College         Wellesley   \n5               Bard College at Simon's Rock  Great Barrington   \n6                        Bay Path University        Longmeadow   \n7                          Bay State College            Boston   \n8                             Becker College         Worcester   \n9  Benjamin Franklin Institute of Technology            Boston   \n\n               Control[1]                            Type[1] Enrollment[16]  \\\n0  Private not-for-profit                Master's university      2,177[17]   \n1  Private not-for-profit              Baccalaureate college      1,817[18]   \n2  Private not-for-profit                Master's university      1,455[19]   \n3  Private not-for-profit                Master's university      2,813[20]   \n4  Private not-for-profit          Special-focus institution      3,250[21]   \n5  Private not-for-profit  Baccalaureate/associate's college        354[22]   \n6  Private not-for-profit              Baccalaureate college      2,370[23]   \n7              For-profit                Associate's college      1,721[24]   \n8  Private not-for-profit              Baccalaureate college      1,826[25]   \n9  Private not-for-profit          Special-focus institution        475[26]   \n\n    Founded              Accreditation[16]  \n0  1885[17]    AOTA, APTA, CCNE, NEASC[17]  \n1  1821[18]                      NEASC[18]  \n2  1946[19]         NASM, NEASC, NLNAC[19]  \n3  1904[20]                      NEASC[20]  \n4  1919[21]                      NEASC[21]  \n5  1964[22]                      NEASC[22]  \n6  1897[23]                AOTA, NEASC[23]  \n7  1946[24]  ABHES, APTA, NEASC, NLNAC[24]  \n8  1784[25]         APTA, NEASC, NLNAC[25]  \n9  1908[26]                      NEASC[26]  "
                    },
                    "execution_count": 17,
                    "metadata": {},
                    "output_type": "execute_result"
                }
            ],
            "source": "#Lets visualize the table without cleaning and preprocessing\ndf=wikitables[0]\nprint(df.shape)\ndf.head(10)"
        },
        {
            "cell_type": "markdown",
            "metadata": {},
            "source": "### Removing unwanted data"
        },
        {
            "cell_type": "code",
            "execution_count": 18,
            "metadata": {},
            "outputs": [
                {
                    "name": "stdout",
                    "output_type": "stream",
                    "text": "Data shape: (104, 6)\nThe data consists of 104 colleges in 53 different cities\n"
                },
                {
                    "data": {
                        "text/html": "<div>\n<style scoped>\n    .dataframe tbody tr th:only-of-type {\n        vertical-align: middle;\n    }\n\n    .dataframe tbody tr th {\n        vertical-align: top;\n    }\n\n    .dataframe thead th {\n        text-align: right;\n    }\n</style>\n<table border=\"1\" class=\"dataframe\">\n  <thead>\n    <tr style=\"text-align: right;\">\n      <th></th>\n      <th>School</th>\n      <th>Location</th>\n      <th>Control</th>\n      <th>Type</th>\n      <th>Enrollment</th>\n      <th>Founded</th>\n    </tr>\n  </thead>\n  <tbody>\n    <tr>\n      <th>0</th>\n      <td>American International College</td>\n      <td>Springfield</td>\n      <td>Private not-for-profit</td>\n      <td>Master's university</td>\n      <td>2177</td>\n      <td>1885</td>\n    </tr>\n    <tr>\n      <th>1</th>\n      <td>Amherst College</td>\n      <td>Amherst</td>\n      <td>Private not-for-profit</td>\n      <td>Baccalaureate college</td>\n      <td>1817</td>\n      <td>1821</td>\n    </tr>\n    <tr>\n      <th>2</th>\n      <td>Anna Maria College</td>\n      <td>Paxton</td>\n      <td>Private not-for-profit</td>\n      <td>Master's university</td>\n      <td>1455</td>\n      <td>1946</td>\n    </tr>\n    <tr>\n      <th>3</th>\n      <td>Assumption College</td>\n      <td>Worcester</td>\n      <td>Private not-for-profit</td>\n      <td>Master's university</td>\n      <td>2813</td>\n      <td>1904</td>\n    </tr>\n    <tr>\n      <th>4</th>\n      <td>Babson College</td>\n      <td>Wellesley</td>\n      <td>Private not-for-profit</td>\n      <td>Special-focus institution</td>\n      <td>3250</td>\n      <td>1919</td>\n    </tr>\n    <tr>\n      <th>5</th>\n      <td>Bard College at Simon's Rock</td>\n      <td>Great Barrington</td>\n      <td>Private not-for-profit</td>\n      <td>Baccalaureate/associate's college</td>\n      <td>354</td>\n      <td>1964</td>\n    </tr>\n    <tr>\n      <th>6</th>\n      <td>Bay Path University</td>\n      <td>Longmeadow</td>\n      <td>Private not-for-profit</td>\n      <td>Baccalaureate college</td>\n      <td>2370</td>\n      <td>1897</td>\n    </tr>\n    <tr>\n      <th>7</th>\n      <td>Bay State College</td>\n      <td>Boston</td>\n      <td>For-profit</td>\n      <td>Associate's college</td>\n      <td>1721</td>\n      <td>1946</td>\n    </tr>\n    <tr>\n      <th>8</th>\n      <td>Becker College</td>\n      <td>Worcester</td>\n      <td>Private not-for-profit</td>\n      <td>Baccalaureate college</td>\n      <td>1826</td>\n      <td>1784</td>\n    </tr>\n    <tr>\n      <th>9</th>\n      <td>Benjamin Franklin Institute of Technology</td>\n      <td>Boston</td>\n      <td>Private not-for-profit</td>\n      <td>Special-focus institution</td>\n      <td>475</td>\n      <td>1908</td>\n    </tr>\n  </tbody>\n</table>\n</div>",
                        "text/plain": "                                      School          Location  \\\n0             American International College       Springfield   \n1                            Amherst College           Amherst   \n2                         Anna Maria College            Paxton   \n3                         Assumption College         Worcester   \n4                             Babson College         Wellesley   \n5               Bard College at Simon's Rock  Great Barrington   \n6                        Bay Path University        Longmeadow   \n7                          Bay State College            Boston   \n8                             Becker College         Worcester   \n9  Benjamin Franklin Institute of Technology            Boston   \n\n                  Control                               Type  Enrollment  \\\n0  Private not-for-profit                Master's university        2177   \n1  Private not-for-profit              Baccalaureate college        1817   \n2  Private not-for-profit                Master's university        1455   \n3  Private not-for-profit                Master's university        2813   \n4  Private not-for-profit          Special-focus institution        3250   \n5  Private not-for-profit  Baccalaureate/associate's college         354   \n6  Private not-for-profit              Baccalaureate college        2370   \n7              For-profit                Associate's college        1721   \n8  Private not-for-profit              Baccalaureate college        1826   \n9  Private not-for-profit          Special-focus institution         475   \n\n   Founded  \n0     1885  \n1     1821  \n2     1946  \n3     1904  \n4     1919  \n5     1964  \n6     1897  \n7     1946  \n8     1784  \n9     1908  "
                    },
                    "execution_count": 18,
                    "metadata": {},
                    "output_type": "execute_result"
                }
            ],
            "source": "data=df.drop(['Accreditation[16]'], axis=1)\ndata.rename(columns={\"Location[note 1]\": \"Location\", \"Control[1]\": \"Control\", \"Type[1]\": \"Type\", \"Enrollment[16]\": \"Enrollment\"}, inplace=True)\nfor i in range (data['Enrollment'].shape[0]):\n    data['Enrollment'][i] = re.sub(\"[\\(\\[].*?[\\)\\]]\", \"\", data['Enrollment'][i])\nfor i in range (data['Founded'].shape[0]):\n    data['Founded'][i] = re.sub(\"[\\(\\[].*?[\\)\\]]\", \"\", data['Founded'][i])\n\ndata['Enrollment'] = data['Enrollment'].str.replace(',','')\ndata['Founded'] = data['Founded'].str.replace(',','')\ndata['Founded'][92] = 1975\ndata = data.astype({\"Enrollment\":'int64', \"Founded\":'int64'})\n\nprint('Data shape:',data.shape)\nprint('The data consists of {} colleges in {} different cities'.format(data.shape[0],np.count_nonzero(data['Location'].unique())))\ndata.head(10)"
        },
        {
            "cell_type": "markdown",
            "metadata": {},
            "source": "## Now I will explore the data"
        },
        {
            "cell_type": "code",
            "execution_count": 19,
            "metadata": {},
            "outputs": [
                {
                    "name": "stdout",
                    "output_type": "stream",
                    "text": "<class 'pandas.core.frame.DataFrame'>\nRangeIndex: 104 entries, 0 to 103\nData columns (total 6 columns):\nSchool        104 non-null object\nLocation      104 non-null object\nControl       104 non-null object\nType          104 non-null object\nEnrollment    104 non-null int64\nFounded       104 non-null int64\ndtypes: int64(2), object(4)\nmemory usage: 5.0+ KB\n"
                }
            ],
            "source": "data.info()"
        },
        {
            "cell_type": "code",
            "execution_count": 20,
            "metadata": {},
            "outputs": [
                {
                    "data": {
                        "text/html": "<div>\n<style scoped>\n    .dataframe tbody tr th:only-of-type {\n        vertical-align: middle;\n    }\n\n    .dataframe tbody tr th {\n        vertical-align: top;\n    }\n\n    .dataframe thead th {\n        text-align: right;\n    }\n</style>\n<table border=\"1\" class=\"dataframe\">\n  <thead>\n    <tr style=\"text-align: right;\">\n      <th></th>\n      <th>Enrollment</th>\n      <th>Founded</th>\n    </tr>\n  </thead>\n  <tbody>\n    <tr>\n      <th>count</th>\n      <td>104.000000</td>\n      <td>104.000000</td>\n    </tr>\n    <tr>\n      <th>mean</th>\n      <td>4780.480769</td>\n      <td>1913.009615</td>\n    </tr>\n    <tr>\n      <th>std</th>\n      <td>5934.864141</td>\n      <td>57.049713</td>\n    </tr>\n    <tr>\n      <th>min</th>\n      <td>18.000000</td>\n      <td>1636.000000</td>\n    </tr>\n    <tr>\n      <th>25%</th>\n      <td>1281.750000</td>\n      <td>1878.000000</td>\n    </tr>\n    <tr>\n      <th>50%</th>\n      <td>2496.000000</td>\n      <td>1918.000000</td>\n    </tr>\n    <tr>\n      <th>75%</th>\n      <td>6314.750000</td>\n      <td>1963.250000</td>\n    </tr>\n    <tr>\n      <th>max</th>\n      <td>32603.000000</td>\n      <td>1997.000000</td>\n    </tr>\n  </tbody>\n</table>\n</div>",
                        "text/plain": "         Enrollment      Founded\ncount    104.000000   104.000000\nmean    4780.480769  1913.009615\nstd     5934.864141    57.049713\nmin       18.000000  1636.000000\n25%     1281.750000  1878.000000\n50%     2496.000000  1918.000000\n75%     6314.750000  1963.250000\nmax    32603.000000  1997.000000"
                    },
                    "execution_count": 20,
                    "metadata": {},
                    "output_type": "execute_result"
                }
            ],
            "source": "data[['Enrollment', 'Founded']].describe()"
        },
        {
            "cell_type": "code",
            "execution_count": 21,
            "metadata": {},
            "outputs": [
                {
                    "name": "stdout",
                    "output_type": "stream",
                    "text": "The oldest college in Massachusetts is Harvard University founded in 1636\n\n\nThe newest college in Massachusetts is Olin College founded in 1997\n\n\nThe college with the highest enrollment is Boston University with 32603 students\n\n\nThe college with the lowest enrollment is Conway School of Landscape Design with 18 students\n\n\nThe average enrollment for a college in Massachusetts is approximately 4780 students\n\n\nThe total number of students enrolled in Massachusetts is 497170 students\n"
                }
            ],
            "source": "print('The oldest college in Massachusetts is {} founded in {}'.format(data['School'][np.argmin(data['Founded'])],np.min(data['Founded'])))\nprint('\\n')\nprint('The newest college in Massachusetts is {} founded in {}'.format(data['School'][np.argmax(data['Founded'])],np.max(data['Founded'])))\nprint('\\n')\nprint('The college with the highest enrollment is {} with {} students'.format(data['School'][np.argmax(data['Enrollment'])],np.max(data['Enrollment'])))\nprint('\\n')\nprint('The college with the lowest enrollment is {} with {} students'.format(data['School'][np.argmin(data['Enrollment'])],np.min(data['Enrollment'])))\nprint('\\n')\nprint('The average enrollment for a college in Massachusetts is approximately {} students'.format(round(data['Enrollment'].mean())))\nprint('\\n')\nprint('The total number of students enrolled in Massachusetts is {} students'.format(data['Enrollment'].sum()))"
        },
        {
            "cell_type": "code",
            "execution_count": 22,
            "metadata": {},
            "outputs": [
                {
                    "name": "stdout",
                    "output_type": "stream",
                    "text": "1 college was founded in the 17th century\n\n\n2 colleges were founded in the 18th century\n\n\n40 colleges were founded in the 19th century\n\n\n61 colleges were founded in the 20th century\n\n\n"
                }
            ],
            "source": "print('{} college was founded in the 17th century'.format(np.count_nonzero(data['Founded'].between(1601, 1700, inclusive = True))))\nprint('\\n')\nprint('{} colleges were founded in the 18th century'.format(np.count_nonzero(data['Founded'].between(1701, 1800, inclusive = True))))\nprint('\\n')\nprint('{} colleges were founded in the 19th century'.format(np.count_nonzero(data['Founded'].between(1801, 1900, inclusive = True))))\nprint('\\n')\nprint('{} colleges were founded in the 20th century'.format(np.count_nonzero(data['Founded'].between(1901, 2000, inclusive = True))))\nprint('\\n')"
        },
        {
            "cell_type": "code",
            "execution_count": 23,
            "metadata": {},
            "outputs": [
                {
                    "data": {
                        "text/html": "<div>\n<style scoped>\n    .dataframe tbody tr th:only-of-type {\n        vertical-align: middle;\n    }\n\n    .dataframe tbody tr th {\n        vertical-align: top;\n    }\n\n    .dataframe thead th {\n        text-align: right;\n    }\n</style>\n<table border=\"1\" class=\"dataframe\">\n  <thead>\n    <tr style=\"text-align: right;\">\n      <th></th>\n      <th>School</th>\n      <th>Location</th>\n      <th>Control</th>\n      <th>Type</th>\n    </tr>\n  </thead>\n  <tbody>\n    <tr>\n      <th>count</th>\n      <td>104</td>\n      <td>104</td>\n      <td>104</td>\n      <td>104</td>\n    </tr>\n    <tr>\n      <th>unique</th>\n      <td>104</td>\n      <td>53</td>\n      <td>3</td>\n      <td>6</td>\n    </tr>\n    <tr>\n      <th>top</th>\n      <td>MCPHS University</td>\n      <td>Boston</td>\n      <td>Private not-for-profit</td>\n      <td>Special-focus institution</td>\n    </tr>\n    <tr>\n      <th>freq</th>\n      <td>1</td>\n      <td>24</td>\n      <td>72</td>\n      <td>28</td>\n    </tr>\n  </tbody>\n</table>\n</div>",
                        "text/plain": "                  School Location                 Control  \\\ncount                104      104                     104   \nunique               104       53                       3   \ntop     MCPHS University   Boston  Private not-for-profit   \nfreq                   1       24                      72   \n\n                             Type  \ncount                         104  \nunique                          6  \ntop     Special-focus institution  \nfreq                           28  "
                    },
                    "execution_count": 23,
                    "metadata": {},
                    "output_type": "execute_result"
                }
            ],
            "source": "data[['School', 'Location', 'Control', 'Type']].describe()"
        },
        {
            "cell_type": "markdown",
            "metadata": {},
            "source": " - We can see that there are 104 distinct colleges in the dataset, in a total of 53 different locations\n - The location with most colleges is Boston with a total of 24 colleges.\n - Out of the 104 colleges, 72 are Private not-for-profit.\n - The most common type of college are Special-focus institutions."
        },
        {
            "cell_type": "code",
            "execution_count": 24,
            "metadata": {},
            "outputs": [
                {
                    "data": {
                        "text/plain": "Location\nBoston         24\nWorcester       8\nCambridge       6\nSpringfield     4\nWellesley       3\nName: School, dtype: int64"
                    },
                    "execution_count": 24,
                    "metadata": {},
                    "output_type": "execute_result"
                }
            ],
            "source": "data_location = data.groupby(['Location']).School.nunique()\ndata_location.sort_values(ascending=False).head()"
        },
        {
            "cell_type": "markdown",
            "metadata": {},
            "source": "The cities with most colleges are Boston, Worcester and Cambridge"
        },
        {
            "cell_type": "code",
            "execution_count": 25,
            "metadata": {},
            "outputs": [
                {
                    "data": {
                        "text/plain": "Control\nPrivate not-for-profit    72\nPublic                    30\nFor-profit                 2\nName: School, dtype: int64"
                    },
                    "execution_count": 25,
                    "metadata": {},
                    "output_type": "execute_result"
                }
            ],
            "source": "data_control = data.groupby(['Control']).School.nunique()\ndata_control.sort_values(ascending=False)"
        },
        {
            "cell_type": "markdown",
            "metadata": {},
            "source": "72 colleges are Private not-for-profit, 30 are Public and 2 are For-profit"
        },
        {
            "cell_type": "code",
            "execution_count": 26,
            "metadata": {},
            "outputs": [
                {
                    "data": {
                        "text/plain": "Type\nSpecial-focus institution            28\nBaccalaureate college                21\nMaster's university                  20\nAssociate's college                  20\nResearch university                  14\nBaccalaureate/associate's college     1\nName: School, dtype: int64"
                    },
                    "execution_count": 26,
                    "metadata": {},
                    "output_type": "execute_result"
                }
            ],
            "source": "data_type = data.groupby(['Type']).School.nunique()\ndata_type.sort_values(ascending=False)"
        },
        {
            "cell_type": "markdown",
            "metadata": {},
            "source": "28 colleges are Special-focus institutions, 22 are Baccalaureate colleges, 20 are Master's universities, 20 are Associate's colleges and 14 are Research universities"
        },
        {
            "cell_type": "markdown",
            "metadata": {},
            "source": "## Then, lets prepare the data in a convenient way"
        },
        {
            "cell_type": "code",
            "execution_count": 27,
            "metadata": {},
            "outputs": [
                {
                    "data": {
                        "text/html": "<div>\n<style scoped>\n    .dataframe tbody tr th:only-of-type {\n        vertical-align: middle;\n    }\n\n    .dataframe tbody tr th {\n        vertical-align: top;\n    }\n\n    .dataframe thead th {\n        text-align: right;\n    }\n</style>\n<table border=\"1\" class=\"dataframe\">\n  <thead>\n    <tr style=\"text-align: right;\">\n      <th></th>\n      <th>School</th>\n      <th>Location</th>\n      <th>Control</th>\n      <th>Type</th>\n      <th>Enrollment</th>\n      <th>Founded</th>\n      <th>Number of Colleges</th>\n    </tr>\n  </thead>\n  <tbody>\n    <tr>\n      <th>0</th>\n      <td>American International College</td>\n      <td>Springfield</td>\n      <td>Private not-for-profit</td>\n      <td>Master's university</td>\n      <td>2177</td>\n      <td>1885</td>\n      <td>4</td>\n    </tr>\n    <tr>\n      <th>1</th>\n      <td>Amherst College</td>\n      <td>Amherst</td>\n      <td>Private not-for-profit</td>\n      <td>Baccalaureate college</td>\n      <td>1817</td>\n      <td>1821</td>\n      <td>3</td>\n    </tr>\n    <tr>\n      <th>2</th>\n      <td>Anna Maria College</td>\n      <td>Paxton</td>\n      <td>Private not-for-profit</td>\n      <td>Master's university</td>\n      <td>1455</td>\n      <td>1946</td>\n      <td>1</td>\n    </tr>\n    <tr>\n      <th>3</th>\n      <td>Assumption College</td>\n      <td>Worcester</td>\n      <td>Private not-for-profit</td>\n      <td>Master's university</td>\n      <td>2813</td>\n      <td>1904</td>\n      <td>8</td>\n    </tr>\n    <tr>\n      <th>4</th>\n      <td>Babson College</td>\n      <td>Wellesley</td>\n      <td>Private not-for-profit</td>\n      <td>Special-focus institution</td>\n      <td>3250</td>\n      <td>1919</td>\n      <td>3</td>\n    </tr>\n    <tr>\n      <th>5</th>\n      <td>Bard College at Simon's Rock</td>\n      <td>Great Barrington</td>\n      <td>Private not-for-profit</td>\n      <td>Baccalaureate/associate's college</td>\n      <td>354</td>\n      <td>1964</td>\n      <td>1</td>\n    </tr>\n    <tr>\n      <th>6</th>\n      <td>Bay Path University</td>\n      <td>Longmeadow</td>\n      <td>Private not-for-profit</td>\n      <td>Baccalaureate college</td>\n      <td>2370</td>\n      <td>1897</td>\n      <td>1</td>\n    </tr>\n    <tr>\n      <th>7</th>\n      <td>Bay State College</td>\n      <td>Boston</td>\n      <td>For-profit</td>\n      <td>Associate's college</td>\n      <td>1721</td>\n      <td>1946</td>\n      <td>24</td>\n    </tr>\n    <tr>\n      <th>8</th>\n      <td>Becker College</td>\n      <td>Worcester</td>\n      <td>Private not-for-profit</td>\n      <td>Baccalaureate college</td>\n      <td>1826</td>\n      <td>1784</td>\n      <td>8</td>\n    </tr>\n    <tr>\n      <th>9</th>\n      <td>Benjamin Franklin Institute of Technology</td>\n      <td>Boston</td>\n      <td>Private not-for-profit</td>\n      <td>Special-focus institution</td>\n      <td>475</td>\n      <td>1908</td>\n      <td>24</td>\n    </tr>\n  </tbody>\n</table>\n</div>",
                        "text/plain": "                                      School          Location  \\\n0             American International College       Springfield   \n1                            Amherst College           Amherst   \n2                         Anna Maria College            Paxton   \n3                         Assumption College         Worcester   \n4                             Babson College         Wellesley   \n5               Bard College at Simon's Rock  Great Barrington   \n6                        Bay Path University        Longmeadow   \n7                          Bay State College            Boston   \n8                             Becker College         Worcester   \n9  Benjamin Franklin Institute of Technology            Boston   \n\n                  Control                               Type  Enrollment  \\\n0  Private not-for-profit                Master's university        2177   \n1  Private not-for-profit              Baccalaureate college        1817   \n2  Private not-for-profit                Master's university        1455   \n3  Private not-for-profit                Master's university        2813   \n4  Private not-for-profit          Special-focus institution        3250   \n5  Private not-for-profit  Baccalaureate/associate's college         354   \n6  Private not-for-profit              Baccalaureate college        2370   \n7              For-profit                Associate's college        1721   \n8  Private not-for-profit              Baccalaureate college        1826   \n9  Private not-for-profit          Special-focus institution         475   \n\n   Founded  Number of Colleges  \n0     1885                   4  \n1     1821                   3  \n2     1946                   1  \n3     1904                   8  \n4     1919                   3  \n5     1964                   1  \n6     1897                   1  \n7     1946                  24  \n8     1784                   8  \n9     1908                  24  "
                    },
                    "execution_count": 27,
                    "metadata": {},
                    "output_type": "execute_result"
                }
            ],
            "source": "data['Number of Colleges'] = data['Location'].map(data['Location'].value_counts())\ndata.head(10)"
        },
        {
            "cell_type": "code",
            "execution_count": 28,
            "metadata": {},
            "outputs": [
                {
                    "data": {
                        "text/html": "<div>\n<style scoped>\n    .dataframe tbody tr th:only-of-type {\n        vertical-align: middle;\n    }\n\n    .dataframe tbody tr th {\n        vertical-align: top;\n    }\n\n    .dataframe thead th {\n        text-align: right;\n    }\n</style>\n<table border=\"1\" class=\"dataframe\">\n  <thead>\n    <tr style=\"text-align: right;\">\n      <th></th>\n      <th>School</th>\n      <th>Control</th>\n      <th>Type</th>\n    </tr>\n  </thead>\n  <tbody>\n    <tr>\n      <th>0</th>\n      <td>Amherst College,Hampshire College,University o...</td>\n      <td>Private not-for-profit,Private not-for-profit,...</td>\n      <td>Baccalaureate college,Baccalaureate college,Re...</td>\n    </tr>\n    <tr>\n      <th>1</th>\n      <td>Massachusetts School of Law</td>\n      <td>Private not-for-profit</td>\n      <td>Special-focus institution</td>\n    </tr>\n    <tr>\n      <th>2</th>\n      <td>Endicott College,Montserrat College of Art</td>\n      <td>Private not-for-profit,Private not-for-profit</td>\n      <td>Master's university,Special-focus institution</td>\n    </tr>\n    <tr>\n      <th>3</th>\n      <td>Bay State College,Benjamin Franklin Institute ...</td>\n      <td>For-profit,Private not-for-profit,Private not-...</td>\n      <td>Associate's college,Special-focus institution,...</td>\n    </tr>\n    <tr>\n      <th>4</th>\n      <td>Massachusetts Maritime Academy</td>\n      <td>Public</td>\n      <td>Baccalaureate college</td>\n    </tr>\n  </tbody>\n</table>\n</div>",
                        "text/plain": "                                              School  \\\n0  Amherst College,Hampshire College,University o...   \n1                        Massachusetts School of Law   \n2         Endicott College,Montserrat College of Art   \n3  Bay State College,Benjamin Franklin Institute ...   \n4                     Massachusetts Maritime Academy   \n\n                                             Control  \\\n0  Private not-for-profit,Private not-for-profit,...   \n1                             Private not-for-profit   \n2      Private not-for-profit,Private not-for-profit   \n3  For-profit,Private not-for-profit,Private not-...   \n4                                             Public   \n\n                                                Type  \n0  Baccalaureate college,Baccalaureate college,Re...  \n1                          Special-focus institution  \n2      Master's university,Special-focus institution  \n3  Associate's college,Special-focus institution,...  \n4                              Baccalaureate college  "
                    },
                    "execution_count": 28,
                    "metadata": {},
                    "output_type": "execute_result"
                }
            ],
            "source": "result = data.groupby('Location', sort=True).agg( ','.join)\nresult = result.reset_index(drop=True)\n\nresult.head()"
        },
        {
            "cell_type": "markdown",
            "metadata": {},
            "source": "## Finally, I'll just keep the cities, the names and number of colleges in each one"
        },
        {
            "cell_type": "code",
            "execution_count": 29,
            "metadata": {},
            "outputs": [
                {
                    "data": {
                        "text/html": "<div>\n<style scoped>\n    .dataframe tbody tr th:only-of-type {\n        vertical-align: middle;\n    }\n\n    .dataframe tbody tr th {\n        vertical-align: top;\n    }\n\n    .dataframe thead th {\n        text-align: right;\n    }\n</style>\n<table border=\"1\" class=\"dataframe\">\n  <thead>\n    <tr style=\"text-align: right;\">\n      <th></th>\n      <th>City</th>\n      <th>Number of Colleges</th>\n      <th>Colleges</th>\n    </tr>\n  </thead>\n  <tbody>\n    <tr>\n      <th>0</th>\n      <td>Amherst</td>\n      <td>3</td>\n      <td>Amherst College,Hampshire College,University o...</td>\n    </tr>\n    <tr>\n      <th>1</th>\n      <td>Andover</td>\n      <td>1</td>\n      <td>Massachusetts School of Law</td>\n    </tr>\n    <tr>\n      <th>2</th>\n      <td>Beverly</td>\n      <td>2</td>\n      <td>Endicott College,Montserrat College of Art</td>\n    </tr>\n    <tr>\n      <th>3</th>\n      <td>Boston</td>\n      <td>24</td>\n      <td>Bay State College,Benjamin Franklin Institute ...</td>\n    </tr>\n    <tr>\n      <th>4</th>\n      <td>Bourne</td>\n      <td>1</td>\n      <td>Massachusetts Maritime Academy</td>\n    </tr>\n    <tr>\n      <th>5</th>\n      <td>Bridgewater</td>\n      <td>1</td>\n      <td>Bridgewater State University</td>\n    </tr>\n    <tr>\n      <th>6</th>\n      <td>Brighton</td>\n      <td>1</td>\n      <td>Saint John's Seminary</td>\n    </tr>\n    <tr>\n      <th>7</th>\n      <td>Brockton</td>\n      <td>1</td>\n      <td>Massasoit Community College</td>\n    </tr>\n    <tr>\n      <th>8</th>\n      <td>Brookline</td>\n      <td>2</td>\n      <td>Boston Graduate School of Psychoanalysis,Helle...</td>\n    </tr>\n    <tr>\n      <th>9</th>\n      <td>Cambridge</td>\n      <td>6</td>\n      <td>Cambridge College,Harvard University,Hult Inte...</td>\n    </tr>\n  </tbody>\n</table>\n</div>",
                        "text/plain": "          City  Number of Colleges  \\\n0      Amherst                   3   \n1      Andover                   1   \n2      Beverly                   2   \n3       Boston                  24   \n4       Bourne                   1   \n5  Bridgewater                   1   \n6     Brighton                   1   \n7     Brockton                   1   \n8    Brookline                   2   \n9    Cambridge                   6   \n\n                                            Colleges  \n0  Amherst College,Hampshire College,University o...  \n1                        Massachusetts School of Law  \n2         Endicott College,Montserrat College of Art  \n3  Bay State College,Benjamin Franklin Institute ...  \n4                     Massachusetts Maritime Academy  \n5                       Bridgewater State University  \n6                              Saint John's Seminary  \n7                        Massasoit Community College  \n8  Boston Graduate School of Psychoanalysis,Helle...  \n9  Cambridge College,Harvard University,Hult Inte...  "
                    },
                    "execution_count": 29,
                    "metadata": {},
                    "output_type": "execute_result"
                }
            ],
            "source": "data_clean = pd.DataFrame(data[['Location','Number of Colleges']])\ndata_clean = data_clean.drop_duplicates()\ndata_clean.sort_values('Location',inplace=True)\ndata_clean.rename(columns={\"Location\": \"City\"}, inplace=True)\ndata_clean = data_clean.reset_index(drop=True)\ndata_clean['Colleges'] = result['School']\n\ndata_clean.head(10)"
        },
        {
            "cell_type": "markdown",
            "metadata": {},
            "source": "Now that I am done with the data preparation, the next step would be the implementation of the project which will be done for the next week in the second part of the capstone project. For the implementation, I will start by finding the location of each city using geopy and start using the Foursquare API to get the closest venues for each city, as well as the 10 most common venues in each city. Finally, I will use k-means to cluster the different environments offered by the cities of Massachusetts that houses the state\u00b4s colleges and universities, seeking to facilitate prospective college students, wanting to study there, the important task of choosing the right college."
        },
        {
            "cell_type": "code",
            "execution_count": null,
            "metadata": {},
            "outputs": [],
            "source": ""
        }
    ],
    "metadata": {
        "kernelspec": {
            "display_name": "Python 3.6",
            "language": "python",
            "name": "python3"
        },
        "language_info": {
            "codemirror_mode": {
                "name": "ipython",
                "version": 3
            },
            "file_extension": ".py",
            "mimetype": "text/x-python",
            "name": "python",
            "nbconvert_exporter": "python",
            "pygments_lexer": "ipython3",
            "version": "3.6.9"
        }
    },
    "nbformat": 4,
    "nbformat_minor": 1
}