{
    "cells": [
        {
            "cell_type": "markdown",
            "metadata": {
                "collapsed": true
            },
            "source": "# Massachusetts Colleges Capstone Project - Raul Gonzalez\n# Introduction\n# April 7th, 2020"
        },
        {
            "cell_type": "markdown",
            "metadata": {},
            "source": "Choosing which college or university to attend is one of the biggest decisions that you will make in terms of your personal and professional development, and it can be overwhelming if you don\u2019t know where to start. College is important for many reasons, including long-term financial gain, job stability, career satisfaction and success outside of the workplace. In essence, college teaches us how to learn and grow in every aspect of our lives. As Ralph Waldo Emerson says, \"The things taught in schools and colleges are not an education, but the means to an education.\" Of course, the quality of the education offered is a very important factor in deciding which college to attend, as well as the overall on-campus experience. However, another important factor is the off-campus experience offered, including the historical, cultural and social background of the college's city since at the end attending college is preparing us to become active members of our societies."
        },
        {
            "cell_type": "markdown",
            "metadata": {},
            "source": "Most of the time prospective college students can't visit the city of the college they are planning to attend because of time or economic limitations and are sometimes insecure if they are going to like the environment offered by that city. Also, many students choose to attend a certain college just because they really like the city in which it is located. It seems that knowing in advance the different types of environments offered by the cities would facilitate prospective college students the important task of choosing which college or university to attend. Maybe a student would prefer to attend a college in a city with a lot of Italian restaurants in the surroundings or maybe a city with many museums and parks to visit during weekends."
        },
        {
            "cell_type": "markdown",
            "metadata": {},
            "source": "With its incredibly significant, undeniably unique place in American history and culture, from the earliest historical period of colonial America onward, Massachusetts continues to play a primary contributing roll to American high-culture and fine-arts. Massachusetts is home to countless world-class museums and national historical sites and has produced some of Americans most famously creative academics, artists, writers, and musicians. Massachusetts\u2019 role in American education is also without equal. Massachusetts is home to the United States\u2019 oldest high school, the first public library, oldest boarding school, oldest college, and the first women\u2019s college. Additionally, top level universities such as Harvard and MIT, which consistently rank among the world\u2019s best universities year after year, are located in this state. Massachusetts has 12% of the top research universities and 15% of the top 40 liberal arts colleges. Several of the world\u2019s best medical and technology facilities are located here as well as numerous multinational corporations. In summary, the state of Massachusetts seems like a great place to decide to accomplish college studies. This project aims to cluster of find the different environments offered by the cities of Massachusetts that houses the state\u00b4s colleges and universities, seeking to facilitate prospective college students, wanting to study there, the important task of choosing the right college."
        },
        {
            "cell_type": "code",
            "execution_count": null,
            "metadata": {},
            "outputs": [],
            "source": ""
        }
    ],
    "metadata": {
        "kernelspec": {
            "display_name": "Python 3.6",
            "language": "python",
            "name": "python3"
        },
        "language_info": {
            "codemirror_mode": {
                "name": "ipython",
                "version": 3
            },
            "file_extension": ".py",
            "mimetype": "text/x-python",
            "name": "python",
            "nbconvert_exporter": "python",
            "pygments_lexer": "ipython3",
            "version": "3.6.9"
        }
    },
    "nbformat": 4,
    "nbformat_minor": 1
}